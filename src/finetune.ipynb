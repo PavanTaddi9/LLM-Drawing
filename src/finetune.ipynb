{
 "cells": [
  {
   "cell_type": "code",
   "execution_count": null,
   "id": "30a2667e",
   "metadata": {
    "vscode": {
     "languageId": "plaintext"
    }
   },
   "outputs": [],
   "source": [
    "!pip install uv -qU\n",
    "!uv pip install unsloth tensorboard -qU --system"
   ]
  },
  {
   "cell_type": "code",
   "execution_count": null,
   "id": "396d786c",
   "metadata": {
    "vscode": {
     "languageId": "plaintext"
    }
   },
   "outputs": [],
   "source": [
    "import os\n",
    "os.environ[\"HF_HUB_ENABLE_HF_TRANSFER\"] = \"1\"\n",
    "os.environ[\"HF_HOME\"] = \"./\"\n"
   ]
  },
  {
   "cell_type": "code",
   "execution_count": null,
   "id": "dccf8d31",
   "metadata": {
    "vscode": {
     "languageId": "plaintext"
    }
   },
   "outputs": [],
   "source": [
    "from huggingface_hub import HfFolder, login\n",
    "if HfFolder.get_token() is None:\n",
    "  login()"
   ]
  },
  {
   "cell_type": "code",
   "execution_count": null,
   "id": "dce6c86d",
   "metadata": {
    "vscode": {
     "languageId": "plaintext"
    }
   },
   "outputs": [],
   "source": [
    "model = \"Qwen/Qwen3-8b\"\n",
    "max_seq_length = 8192\n",
    "dtype  = None\n",
    "load_in_4bit = False\n",
    "load_in_8bit = False\n",
    "datasets = \"qwen3_finetune_dataset.jsonl\""
   ]
  },
  {
   "cell_type": "code",
   "execution_count": null,
   "id": "3a671106",
   "metadata": {
    "vscode": {
     "languageId": "plaintext"
    }
   },
   "outputs": [],
   "source": [
    "# Helper to clear cuda without restarting the kernel. from unsloth import FastLanguageModel\n",
    "\n",
    "import torch\n",
    "\n",
    "import gc, inspect, sys\n",
    "\n",
    "def clear_old_model_refs():\n",
    "\n",
    "  frm inspect.currentframe().f_back\n",
    "\n",
    "  caller_locals frm.f_locals\n",
    "\n",
    "  caller_globals = frm.f_globals\n",
    "\n",
    "  for var in (\"teacher\", \"model\", \"tokenizer\"):\n",
    "\n",
    "    if var in caller_locals:\n",
    "\n",
    "    try:\n",
    "\n",
    "      del caller locals [var]\n",
    "\n",
    "      if var in sys.modules: rarely needed\n",
    "\n",
    "      del sys.modules [var]\n",
    "\n",
    "      print(f\"deleted local {var}\")\n",
    "\n",
    "    except Exception as e:\n",
    "\n",
    "      print(f\"could not delete local (var): {e}\")\n",
    "\n",
    "      if var in caller_globals:\n",
    "\n",
    "    try:\n",
    "\n",
    "      del caller_globals [var]\n",
    "\n",
    "      print(f\"deleted global (var)\")\n",
    "\n",
    "    except Exception as e:\n",
    "\n",
    "      print(f\"could not delete global (var): {e}\")\n",
    "\n",
    "    #Python & CUDA cleanup\n",
    "\n",
    "  gc.collect()\n",
    "\n",
    "  torch.cuda.empty_cache()\n",
    "\n",
    "  print(\"GPIL cache cleared\")"
   ]
  }
 ],
 "metadata": {
  "kernelspec": {
   "display_name": "Python 3 (ipykernel)",
   "language": "python",
   "name": "python3"
  },
  "language_info": {
   "codemirror_mode": {
    "name": "ipython",
    "version": 3
   },
   "file_extension": ".py",
   "mimetype": "text/x-python",
   "name": "python",
   "nbconvert_exporter": "python",
   "pygments_lexer": "ipython3",
   "version": "3.10.12"
  }
 },
 "nbformat": 4,
 "nbformat_minor": 5
}
